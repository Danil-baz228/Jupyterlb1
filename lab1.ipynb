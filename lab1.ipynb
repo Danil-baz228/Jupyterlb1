{
 "cells": [
  {
   "cell_type": "markdown",
   "id": "2a2ffb7a",
   "metadata": {},
   "source": [
    "\n",
    "**НАЦІОНАЛЬНИЙ ТЕХНІЧНИЙ УНІВЕРСИТЕТ \"ХАРКІВСЬКИЙ ПОЛІТЕХНІЧНИЙ ІНСТИТУТ\"**  \n",
    "\n",
    "\n",
    "## ЗВІТ  \n",
    "з лабораторної роботи №1  \n",
    "**Базилевич Данило**  \n"
   ]
  },
  {
   "cell_type": "markdown",
   "id": "3d56d14b",
   "metadata": {},
   "source": [
    "\n",
    "## Тема роботи  \n",
    "Основи роботи в середовищі Jupyter Notebook  \n",
    "\n",
    "## Мета роботи  \n",
    "Ознайомитись з особливостями використання мови Python у Jupyter Notebook та отримати навички роботи з блокнотом.  \n"
   ]
  },
  {
   "cell_type": "code",
   "id": "aa667ae1",
   "metadata": {
    "ExecuteTime": {
     "end_time": "2025-09-22T06:59:50.546478Z",
     "start_time": "2025-09-22T06:59:50.543196Z"
    }
   },
   "source": [
    "\n",
    "# Визначення варіанта\n",
    "N = ord(\"D\") % 10 + 1\n",
    "N\n"
   ],
   "outputs": [
    {
     "data": {
      "text/plain": [
       "9"
      ]
     },
     "execution_count": 14,
     "metadata": {},
     "output_type": "execute_result"
    }
   ],
   "execution_count": 14
  },
  {
   "metadata": {},
   "cell_type": "markdown",
   "source": "Теоретична частина про країну (Гана)\n",
   "id": "bb47a14c118347f"
  },
  {
   "metadata": {
    "ExecuteTime": {
     "end_time": "2025-09-22T06:59:52.183024Z",
     "start_time": "2025-09-22T06:59:52.178468Z"
    }
   },
   "cell_type": "code",
   "source": [
    "\n",
    "# ## 2. Інформація про країну (Гана)\n",
    "\n",
    "from IPython.display import HTML\n",
    "\n",
    "HTML(\"\"\"\n",
    "<h1 style=\"color:green;\">Гана</h1>\n",
    "<p><b>Площа:</b> 238 533 км²</p>\n",
    "<p><b>Населення:</b> ~33 млн</p>\n",
    "<p><b>Державний устрій:</b> Унітарна президентська республіка</p>\n",
    "<p><b>Видатні особистості:</b></p>\n",
    "<ul>\n",
    "  <li>Кваме Нкрума — перший президент</li>\n",
    "  <li>Кофі Аннан — Генеральний секретар ООН</li>\n",
    "</ul>\n",
    "<p><b>Культура та пам'ятки:</b></p>\n",
    "<ul>\n",
    "  <li>Форт Кейп-Кост</li>\n",
    "  <li>Національний парк Какум</li>\n",
    "</ul>\n",
    "<img src=\"https://upload.wikimedia.org/wikipedia/commons/1/19/Flag_of_Ghana.svg\" width=\"200\"/>\n",
    "\"\"\")\n",
    "\n"
   ],
   "id": "4a63151e6103e1bf",
   "outputs": [
    {
     "data": {
      "text/plain": [
       "<IPython.core.display.HTML object>"
      ],
      "text/html": [
       "\n",
       "<h1 style=\"color:green;\">Гана</h1>\n",
       "<p><b>Площа:</b> 238 533 км²</p>\n",
       "<p><b>Населення:</b> ~33 млн</p>\n",
       "<p><b>Державний устрій:</b> Унітарна президентська республіка</p>\n",
       "<p><b>Видатні особистості:</b></p>\n",
       "<ul>\n",
       "  <li>Кваме Нкрума — перший президент</li>\n",
       "  <li>Кофі Аннан — Генеральний секретар ООН</li>\n",
       "</ul>\n",
       "<p><b>Культура та пам'ятки:</b></p>\n",
       "<ul>\n",
       "  <li>Форт Кейп-Кост</li>\n",
       "  <li>Національний парк Какум</li>\n",
       "</ul>\n",
       "<img src=\"https://upload.wikimedia.org/wikipedia/commons/1/19/Flag_of_Ghana.svg\" width=\"200\"/>\n"
      ]
     },
     "execution_count": 15,
     "metadata": {},
     "output_type": "execute_result"
    }
   ],
   "execution_count": 15
  },
  {
   "metadata": {},
   "cell_type": "markdown",
   "source": "Реалізація завдання 5 (k-те просте число)",
   "id": "5f4f8e032d40a53f"
  },
  {
   "metadata": {
    "ExecuteTime": {
     "end_time": "2025-09-22T06:59:54.304333Z",
     "start_time": "2025-09-22T06:59:54.301437Z"
    }
   },
   "cell_type": "code",
   "source": [
    "# ## 3. Функція для знаходження k-го простого числа\n",
    "\n",
    "def is_prime(n: int) -> bool:\n",
    "    \"\"\"Перевірка, чи число просте.\"\"\"\n",
    "    if n < 2:\n",
    "        return False\n",
    "    for i in range(2, int(n ** 0.5) + 1):\n",
    "        if n % i == 0:\n",
    "            return False\n",
    "    return True\n",
    "\n",
    "\n",
    "def kth_prime(k: int) -> int:\n",
    "    \"\"\"Знаходить k-те просте число.\"\"\"\n",
    "    if k <= 0:\n",
    "        raise ValueError(\"k має бути натуральним числом!\")\n",
    "\n",
    "    count, num = 0, 1\n",
    "    while count < k:\n",
    "        num += 1\n",
    "        if is_prime(num):\n",
    "            count += 1\n",
    "    return num\n"
   ],
   "id": "afcc34442ac839e7",
   "outputs": [],
   "execution_count": 16
  },
  {
   "metadata": {},
   "cell_type": "markdown",
   "source": "Тестові приклади",
   "id": "23a2127f3af61c72"
  },
  {
   "metadata": {
    "ExecuteTime": {
     "end_time": "2025-09-22T07:00:11.440414Z",
     "start_time": "2025-09-22T07:00:11.437184Z"
    }
   },
   "cell_type": "code",
   "source": [
    "# ## 4. Тестові приклади\n",
    "\n",
    "print(\"5-те просте число =\", kth_prime(5))   # очікувано: 11\n",
    "print(\"10-те просте число =\", kth_prime(10)) # очікувано: 29\n",
    "print(\"34-те просте число =\", kth_prime(34)) # очікувано: 139\n"
   ],
   "id": "38b6d14a72723db3",
   "outputs": [
    {
     "name": "stdout",
     "output_type": "stream",
     "text": [
      "5-те просте число = 11\n",
      "10-те просте число = 29\n",
      "34-те просте число = 139\n"
     ]
    }
   ],
   "execution_count": 17
  },
  {
   "metadata": {},
   "cell_type": "markdown",
   "source": "Контроль введення",
   "id": "25e79ddef19e723c"
  },
  {
   "metadata": {
    "ExecuteTime": {
     "end_time": "2025-09-22T07:00:18.771867Z",
     "start_time": "2025-09-22T07:00:14.870913Z"
    }
   },
   "cell_type": "code",
   "source": [
    "# ## 5. Контроль введення\n",
    "\n",
    "try:\n",
    "    k = int(input(\"Введіть k: \"))\n",
    "    print(f\"{k}-те просте число =\", kth_prime(k))\n",
    "except ValueError as e:\n",
    "    print(\"Помилка:\", e)\n"
   ],
   "id": "3c63c0f1f9432717",
   "outputs": [
    {
     "name": "stdout",
     "output_type": "stream",
     "text": [
      "5-те просте число = 11\n"
     ]
    }
   ],
   "execution_count": 18
  },
  {
   "metadata": {},
   "cell_type": "markdown",
   "source": "http://localhost:8888/lab",
   "id": "4156e58d17da48f0"
  },
  {
   "metadata": {},
   "cell_type": "markdown",
   "source": "https://github.com/Danil-baz228/Jupyterlb1",
   "id": "b33df8f8e5a8fa27"
  }
 ],
 "metadata": {},
 "nbformat": 4,
 "nbformat_minor": 5
}
