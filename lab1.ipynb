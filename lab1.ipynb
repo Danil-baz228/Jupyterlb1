{
 "cells": [
  {
   "cell_type": "markdown",
   "id": "2a2ffb7a",
   "metadata": {},
   "source": [
    "\n",
    "**НАЦІОНАЛЬНИЙ ТЕХНІЧНИЙ УНІВЕРСИТЕТ \"ХАРКІВСЬКИЙ ПОЛІТЕХНІЧНИЙ ІНСТИТУТ\"**  \n",
    "\n",
    "\n",
    "## ЗВІТ  \n",
    "з лабораторної роботи №1  \n",
    "**Базилевич Данило**  \n"
   ]
  },
  {
   "cell_type": "markdown",
   "id": "3d56d14b",
   "metadata": {},
   "source": [
    "\n",
    "## Тема роботи  \n",
    "Основи роботи в середовищі Jupyter Notebook  \n",
    "\n",
    "## Мета роботи  \n",
    "Ознайомитись з особливостями використання мови Python у Jupyter Notebook та отримати навички роботи з блокнотом.  \n"
   ]
  },
  {
   "cell_type": "code",
   "execution_count": 14,
   "id": "aa667ae1",
   "metadata": {
    "ExecuteTime": {
     "end_time": "2025-09-22T06:59:50.546478Z",
     "start_time": "2025-09-22T06:59:50.543196Z"
    },
    "collapsed": true,
    "jupyter": {
     "outputs_hidden": true
    }
   },
   "outputs": [
    {
     "data": {
      "text/plain": [
       "9"
      ]
     },
     "execution_count": 14,
     "metadata": {},
     "output_type": "execute_result"
    }
   ],
   "source": [
    "\n",
    "# Визначення варіанта\n",
    "N = ord(\"D\") % 10 + 1\n",
    "N\n"
   ]
  },
  {
   "cell_type": "markdown",
   "id": "bb47a14c118347f",
   "metadata": {},
   "source": [
    "Теоретична частина про країну (Гана)\n"
   ]
  },
  {
   "cell_type": "code",
   "id": "4a63151e6103e1bf",
   "metadata": {
    "ExecuteTime": {
     "end_time": "2025-09-22T07:30:46.074934Z",
     "start_time": "2025-09-22T07:30:46.068847Z"
    }
   },
   "source": [
    "# ## 2. Інформація про країну (Гана)\n",
    "\n",
    "from IPython.display import HTML\n",
    "\n",
    "HTML(\"\"\"\n",
    "<div style=\"border:2px solid black; padding:10px;\">\n",
    "\n",
    "<h1 style=\"color:green;\">Гана</h1>\n",
    "\n",
    "<p><b>Площа:</b> <i>238 533 км²</i></p>\n",
    "<p><b>Населення:</b> <span style=\"color:blue;\">~33 млн</span></p>\n",
    "<p><b>Державний устрій:</b> <u>Унітарна президентська республіка</u></p>\n",
    "\n",
    "<h2 style=\"color:brown;\">Видатні особистості</h2>\n",
    "<ul>\n",
    "  <li><b>Кваме Нкрума</b> — <i>перший президент</i></li>\n",
    "  <li><b>Кофі Аннан</b> — Генеральний секретар ООН</li>\n",
    "</ul>\n",
    "\n",
    "<h2 style=\"color:purple;\">Культура та пам'ятки</h2>\n",
    "<ul>\n",
    "  <li>Форт Кейп-Кост</li>\n",
    "  <li>Національний парк Какум\n",
    "    <ul>\n",
    "      <li><i>Канатний міст у тропічному лісі</i></li>\n",
    "      <li><b>Унікальні види тварин</b></li>\n",
    "    </ul>\n",
    "  </li>\n",
    "</ul>\n",
    "\n",
    "<h2>Таблиця характеристик</h2>\n",
    "<table border=\"1\" style=\"border-collapse:collapse; text-align:center;\">\n",
    "  <tr><th>Показник</th><th>Значення</th></tr>\n",
    "  <tr><td>Столиця</td><td>Аккра</td></tr>\n",
    "  <tr><td>Валюта</td><td>Седі</td></tr>\n",
    "  <tr><td>Офіційна мова</td><td>Англійська</td></tr>\n",
    "</table>\n",
    "\n",
    "<h2>Зображення</h2>\n",
    "<p>Прапор Гани (по посиланню):</p>\n",
    "<img src=\"https://upload.wikimedia.org/wikipedia/commons/1/19/Flag_of_Ghana.svg\" width=\"200\"/>\n",
    "<p><a href=\"https://uk.wikipedia.org/wiki/Гана\" target=\"_blank\">Докладніше на Вікіпедії</a></p>\n",
    "\n",
    "<h2>Намальований прапор у SVG</h2>\n",
    "<svg width=\"200\" height=\"120\">\n",
    "  <rect width=\"200\" height=\"40\" style=\"fill:red\"/>\n",
    "  <rect y=\"40\" width=\"200\" height=\"40\" style=\"fill:yellow\"/>\n",
    "  <rect y=\"80\" width=\"200\" height=\"40\" style=\"fill:green\"/>\n",
    "  <polygon points=\"100,35 110,75 90,75\" style=\"fill:black\"/>\n",
    "</svg>\n",
    "\n",
    "</div>\n",
    "\"\"\")\n"
   ],
   "outputs": [
    {
     "data": {
      "text/plain": [
       "<IPython.core.display.HTML object>"
      ],
      "text/html": [
       "\n",
       "<div style=\"border:2px solid black; padding:10px;\">\n",
       "\n",
       "<h1 style=\"color:green;\">Гана</h1>\n",
       "\n",
       "<p><b>Площа:</b> <i>238 533 км²</i></p>\n",
       "<p><b>Населення:</b> <span style=\"color:blue;\">~33 млн</span></p>\n",
       "<p><b>Державний устрій:</b> <u>Унітарна президентська республіка</u></p>\n",
       "\n",
       "<h2 style=\"color:brown;\">Видатні особистості</h2>\n",
       "<ul>\n",
       "  <li><b>Кваме Нкрума</b> — <i>перший президент</i></li>\n",
       "  <li><b>Кофі Аннан</b> — Генеральний секретар ООН</li>\n",
       "</ul>\n",
       "\n",
       "<h2 style=\"color:purple;\">Культура та пам'ятки</h2>\n",
       "<ul>\n",
       "  <li>Форт Кейп-Кост</li>\n",
       "  <li>Національний парк Какум\n",
       "    <ul>\n",
       "      <li><i>Канатний міст у тропічному лісі</i></li>\n",
       "      <li><b>Унікальні види тварин</b></li>\n",
       "    </ul>\n",
       "  </li>\n",
       "</ul>\n",
       "\n",
       "<h2>Таблиця характеристик</h2>\n",
       "<table border=\"1\" style=\"border-collapse:collapse; text-align:center;\">\n",
       "  <tr><th>Показник</th><th>Значення</th></tr>\n",
       "  <tr><td>Столиця</td><td>Аккра</td></tr>\n",
       "  <tr><td>Валюта</td><td>Седі</td></tr>\n",
       "  <tr><td>Офіційна мова</td><td>Англійська</td></tr>\n",
       "</table>\n",
       "\n",
       "<h2>Зображення</h2>\n",
       "<p>Прапор Гани (по посиланню):</p>\n",
       "<img src=\"https://upload.wikimedia.org/wikipedia/commons/1/19/Flag_of_Ghana.svg\" width=\"200\"/>\n",
       "\n",
       "<p><a href=\"https://uk.wikipedia.org/wiki/Гана\" target=\"_blank\">Докладніше на Вікіпедії</a></p>\n",
       "\n",
       "<h2>Намальований прапор у SVG</h2>\n",
       "<svg width=\"200\" height=\"120\">\n",
       "  <rect width=\"200\" height=\"40\" style=\"fill:red\"/>\n",
       "  <rect y=\"40\" width=\"200\" height=\"40\" style=\"fill:yellow\"/>\n",
       "  <rect y=\"80\" width=\"200\" height=\"40\" style=\"fill:green\"/>\n",
       "  <polygon points=\"100,35 110,75 90,75\" style=\"fill:black\"/>\n",
       "</svg>\n",
       "\n",
       "</div>\n"
      ]
     },
     "execution_count": 1,
     "metadata": {},
     "output_type": "execute_result"
    }
   ],
   "execution_count": 1
  },
  {
   "cell_type": "markdown",
   "id": "5f4f8e032d40a53f",
   "metadata": {},
   "source": [
    "Реалізація завдання 5 (k-те просте число)"
   ]
  },
  {
   "cell_type": "code",
   "id": "afcc34442ac839e7",
   "metadata": {
    "ExecuteTime": {
     "end_time": "2025-09-22T07:32:01.689999Z",
     "start_time": "2025-09-22T07:32:01.685625Z"
    }
   },
   "source": [
    "# ## 3. Функція для знаходження k-го простого числа\n",
    "\n",
    "def is_prime(n: int) -> bool:\n",
    "    \"\"\"\n",
    "    Перевірка, чи число просте.\n",
    "    :param n: число для перевірки\n",
    "    :return: True, якщо просте, False інакше\n",
    "    \"\"\"\n",
    "    if n < 2:\n",
    "        return False\n",
    "    for i in range(2, int(n ** 0.5) + 1):\n",
    "        if n % i == 0:\n",
    "            return False\n",
    "    return True\n",
    "\n",
    "\n",
    "def kth_prime(k: int) -> int:\n",
    "    \"\"\"\n",
    "    Пошук k-го простого числа.\n",
    "    :param k: порядковий номер простого числа (натуральне число)\n",
    "    :return: k-те просте число\n",
    "    \"\"\"\n",
    "    if not isinstance(k, int):\n",
    "        raise TypeError(\"k має бути цілим числом!\")\n",
    "    if k <= 0:\n",
    "        raise ValueError(\"k має бути натуральним числом!\")\n",
    "\n",
    "    count, num = 0, 1\n",
    "    while count < k:\n",
    "        num += 1\n",
    "        if is_prime(num):\n",
    "            count += 1\n",
    "    return num\n",
    "\n",
    "\n",
    "\n"
   ],
   "outputs": [
    {
     "name": "stdout",
     "output_type": "stream",
     "text": [
      "5-те просте число = 11\n",
      "10-те просте число = 29\n",
      "34-те просте число = 139\n"
     ]
    }
   ],
   "execution_count": 5
  },
  {
   "cell_type": "markdown",
   "id": "23a2127f3af61c72",
   "metadata": {},
   "source": [
    "Тестові приклади"
   ]
  },
  {
   "cell_type": "code",
   "id": "38b6d14a72723db3",
   "metadata": {
    "ExecuteTime": {
     "end_time": "2025-09-22T07:31:54.674102Z",
     "start_time": "2025-09-22T07:31:54.671538Z"
    }
   },
   "source": [
    "\n",
    "\n",
    "print(\"5-те просте число =\", kth_prime(5))\n",
    "print(\"10-те просте число =\", kth_prime(10))\n",
    "print(\"34-те просте число =\", kth_prime(34))\n"
   ],
   "outputs": [
    {
     "name": "stdout",
     "output_type": "stream",
     "text": [
      "5-те просте число = 11\n",
      "10-те просте число = 29\n",
      "34-те просте число = 139\n"
     ]
    }
   ],
   "execution_count": 3
  },
  {
   "cell_type": "markdown",
   "id": "25e79ddef19e723c",
   "metadata": {},
   "source": [
    "Контроль введення"
   ]
  },
  {
   "cell_type": "code",
   "id": "3c63c0f1f9432717",
   "metadata": {
    "ExecuteTime": {
     "end_time": "2025-09-22T07:32:10.894003Z",
     "start_time": "2025-09-22T07:32:07.967669Z"
    }
   },
   "source": [
    "# ## 5. Контроль введення\n",
    "\n",
    "try:\n",
    "    k = int(input(\"Введіть k: \"))\n",
    "    print(f\"{k}-те просте число =\", kth_prime(k))\n",
    "except ValueError as e:\n",
    "    print(\"Помилка:\", e)\n"
   ],
   "outputs": [
    {
     "name": "stdout",
     "output_type": "stream",
     "text": [
      "15-те просте число = 47\n"
     ]
    }
   ],
   "execution_count": 6
  },
  {
   "cell_type": "markdown",
   "id": "4156e58d17da48f0",
   "metadata": {},
   "source": [
    "http://localhost:8888/lab"
   ]
  },
  {
   "cell_type": "markdown",
   "id": "b33df8f8e5a8fa27",
   "metadata": {},
   "source": [
    "https://github.com/Danil-baz228/Jupyterlb1"
   ]
  }
 ],
 "metadata": {
  "kernelspec": {
   "display_name": "Python 3 (ipykernel)",
   "language": "python",
   "name": "python3"
  },
  "language_info": {
   "codemirror_mode": {
    "name": "ipython",
    "version": 3
   },
   "file_extension": ".py",
   "mimetype": "text/x-python",
   "name": "python",
   "nbconvert_exporter": "python",
   "pygments_lexer": "ipython3",
   "version": "3.13.5"
  }
 },
 "nbformat": 4,
 "nbformat_minor": 5
}
